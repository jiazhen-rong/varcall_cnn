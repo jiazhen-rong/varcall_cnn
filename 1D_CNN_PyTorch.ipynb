{
 "cells": [
  {
   "cell_type": "code",
   "execution_count": 2,
   "metadata": {},
   "outputs": [],
   "source": [
    "import torch\n",
    "import torch.nn as nn\n",
    "import torch.nn.functional as F\n",
    "import torch.optim as optim\n",
    "from torch.utils.data import Dataset, DataLoader\n",
    "import pandas as pd\n",
    "from ast import literal_eval\n",
    "import numpy as np\n",
    "from torch.autograd import Variable\n",
    "from datetime import datetime\n",
    "from array import array\n",
    "import json\n",
    "import matplotlib.pyplot as plt\n",
    "from sklearn.metrics import precision_recall_curve\n",
    "from sklearn.metrics import average_precision_score\n",
    "import tensorflow as tf"
   ]
  },
  {
   "cell_type": "markdown",
   "metadata": {},
   "source": [
    "### Define Parameters"
   ]
  },
  {
   "cell_type": "code",
   "execution_count": 46,
   "metadata": {},
   "outputs": [],
   "source": [
    "# Parameters and DataLoaders\n",
    "# batch_size = 100 ### adjustable\n",
    "batch_size = 100 ### adjustable\n",
    "num_worker = 4 ### adjustable\n",
    "\n",
    "n_epochs = 50\n",
    "num_classes = 2\n",
    "learning_rate = 0.001"
   ]
  },
  {
   "cell_type": "markdown",
   "metadata": {},
   "source": [
    "### Load Data"
   ]
  },
  {
   "cell_type": "code",
   "execution_count": 35,
   "metadata": {},
   "outputs": [],
   "source": [
    "def converter(x):\n",
    "    #define format of datetime\n",
    "    return literal_eval(x)"
   ]
  },
  {
   "cell_type": "code",
   "execution_count": 109,
   "metadata": {},
   "outputs": [],
   "source": [
    "class VarCallDataset(Dataset):\n",
    "    \"\"\"Var Call Training dataset.\n",
    "       Self-defined data reader, inherited from pytorch's Dataset class. \n",
    "       Read in one row per time.\n",
    "       Save space for memory.\n",
    "    \"\"\"\n",
    "\n",
    "    def __init__(self, csv_file):\n",
    "        \"\"\"\n",
    "        Args:\n",
    "            csv_file (string): Path to the csv file.\n",
    "        \"\"\"\n",
    "        self.df = pd.read_csv(csv_file, sep='\\t', index_col=[0],\n",
    "                       dtype={'POS': int, 'BaseQRankSum':float,'ClippingRankSum':float,\n",
    "                              'MQRankSum':float,'label': int}, \n",
    "                       converters={'alt_ratio': converter,'norm_read_depth':converter,\n",
    "                                   'dir_ratio': converter,'ref_encode':converter\n",
    "                                  }) # the rest window-frame has specific characters\n",
    "\n",
    "    def __len__(self):\n",
    "        return len(self.df)\n",
    "\n",
    "    def __getitem__(self, idx):\n",
    "        pos = self.df.iloc[idx, 0] # position of variant\n",
    "\n",
    "        feature = list(self.df.iloc[idx, [1,2,4]].values) # features' values\n",
    "        #feature = list(self.df.iloc[idx,1:3].values) # features' values\n",
    "        # for quality-weighted ratio:\n",
    "        #try:\n",
    "        #    quality=literal_eval(self.df.iloc[idx,3])\n",
    "            #base_qual = literal_eval(self.df.iloc[idx,5])\n",
    "            \n",
    "        #except: # special cases, where there is no base quality avaliable at some positions\n",
    "        #    quality = self.df.iloc[idx,3]   # quality-weighted ratio\n",
    "        #    quality = quality.replace(\"array([], dtype=float64)\",'0.0').replace(\"[\",'').replace(\"]\",'').split(\", \")\n",
    "        #    quality = [float(i) for i in quality]\n",
    "            #base_qual = self.df.iloc[idx,5] # base quality\n",
    "            #base_qual = base_qual.replace(\"nan\",'0.0')\n",
    "            #base_qual = literal_eval(base_qual)\n",
    "        \n",
    "        quality = self.df.iloc[idx,3]\n",
    "        quality = quality.replace(\"nan\",'0.0')\n",
    "        quality = quality.replace(\"array([], dtype=float64)\",'0.0').replace(\"[\",'').replace(\"]\",'').split(\", \")\n",
    "        quality = [float(i) for i in quality]\n",
    "        feature.append(quality)  # add to window-frame features\n",
    "        \n",
    "        base_qual = self.df.iloc[idx,5] # base quality\n",
    "        base_qual = base_qual.replace(\"nan\",'0.0')\n",
    "        base_qual = literal_eval(base_qual)\n",
    "        feature.append(base_qual) # add to window-frame features\n",
    "        \n",
    "        encode_ref = np.array(trail_df.iloc[0,6])[:,0:32].tolist() # encoded reference\n",
    "        feature = feature + encode_ref\n",
    "        \n",
    "        label = self.df.iloc[idx, -1] # label\n",
    "        label = np.array([label]) \n",
    "        \n",
    "        if (len(feature[0]) != 32) or (len(feature[1]) != 32) or (len(feature[2]) != 32): # irregular-shaped inputs\n",
    "            feature = torch.zeros([9, 32], dtype=torch.float32)\n",
    "            #feature = torch.zeros([4, 32], dtype=torch.float32)\n",
    "            hf = list(np.concatenate((self.df.iloc[idx,7:10].values, np.array(feature)[:,15]))) \n",
    "            #hf = list(np.concatenate((self.df.iloc[idx,4:7].values, np.array(feature)[:,15]))) \n",
    "            sample = {'feature': feature, 'label':torch.Tensor(label),\n",
    "                      'hf':torch.Tensor(hf), 'pos': pos} # tranform to tensors \n",
    "            \n",
    "        else: # regular-shaped inputs\n",
    "            hf = list(np.concatenate((self.df.iloc[idx,7:10].values, np.array(feature)[:,15]))) # 15 is # of mid pos in window  \n",
    "            #hf = list(np.concatenate((self.df.iloc[idx,4:7].values, np.array(feature)[:,15])))\n",
    "            sample = {'feature':torch.Tensor(feature), 'label':torch.Tensor(label),\n",
    "                      'hf':torch.Tensor(hf), 'pos': pos}\n",
    "        return sample"
   ]
  },
  {
   "cell_type": "code",
   "execution_count": 110,
   "metadata": {},
   "outputs": [],
   "source": [
    "# Loading data files\n",
    "train_dataset = VarCallDataset(\"new_data_dec/200204_encode_ref_train.csv\")\n",
    "val_dataset = VarCallDataset(\"new_data_dec/200204_encode_ref_val.csv\")\n",
    "test_dataset= VarCallDataset(\"new_data_dec/200204_encode_ref_test.csv\")"
   ]
  },
  {
   "cell_type": "code",
   "execution_count": 111,
   "metadata": {},
   "outputs": [],
   "source": [
    "#train_loader = DataLoader(train_dataset, batch_size=batch_size,\n",
    "#                        shuffle=True, num_workers=0)\n",
    "#val_loader = DataLoader(val_dataset, batch_size=batch_size,\n",
    "#                        shuffle=True, num_workers=0)\n",
    "#test_loader = DataLoader(test_dataset, batch_size=batch_size,\n",
    "#                        shuffle=True, num_workers=0)\n",
    "\n",
    "train_loader = DataLoader(train_dataset, batch_size=batch_size,\n",
    "                        shuffle=True, num_workers=0)\n",
    "val_loader = DataLoader(val_dataset, batch_size=batch_size,\n",
    "                        shuffle=True, num_workers=0)\n",
    "test_loader = DataLoader(test_dataset, batch_size=batch_size,\n",
    "                        shuffle=True, num_workers=0)"
   ]
  },
  {
   "cell_type": "markdown",
   "metadata": {},
   "source": [
    "### Build the Model"
   ]
  },
  {
   "cell_type": "code",
   "execution_count": 63,
   "metadata": {},
   "outputs": [],
   "source": [
    "# Xavier initialization for Conv and Linear layer\n",
    "def weights_init(m):\n",
    "    classname = m.__class__.__name__\n",
    "    if (classname.find('Linear') != -1) or (classname.find('Conv') != -1): \n",
    "        nn.init.xavier_normal_(m.weight.data)"
   ]
  },
  {
   "cell_type": "markdown",
   "metadata": {},
   "source": [
    "#### MLP for DEBUG, no hf"
   ]
  },
  {
   "cell_type": "code",
   "execution_count": 11,
   "metadata": {},
   "outputs": [],
   "source": [
    "class mlpNet(nn.Module):\n",
    "    def __init__(self):\n",
    "        super(mlpNet, self).__init__()\n",
    "        \n",
    "        # an affine operation: y = Wx + b\n",
    "        self.linear = nn.Sequential(\n",
    "            nn.Linear(in_features=30, out_features=256),  # 2048 = conv.size(0) = #nodes in flattern layer\n",
    "            #nn.ReLU(inplace=True),\n",
    "            nn.Linear(in_features=256,out_features=128),  # 120, 84 - any node# I want\n",
    "            #nn.ReLU(inplace=True),\n",
    "            nn.Linear(in_features=128, out_features=num_classes) # 2 classes as output for binary problem\n",
    "        )\n",
    "        \n",
    "    def forward(self, x):\n",
    "        flatten = x.view(x.size(0),-1) \n",
    "        output = self.linear(flatten)\n",
    "        # can add dropout?\n",
    "        \n",
    "        return output"
   ]
  },
  {
   "cell_type": "markdown",
   "metadata": {},
   "source": [
    "#### MLP for DEBUG, with hf"
   ]
  },
  {
   "cell_type": "code",
   "execution_count": 12,
   "metadata": {},
   "outputs": [],
   "source": [
    "class mlp_hf_Net(nn.Module):\n",
    "    def __init__(self):\n",
    "        super(mlp_hf_Net, self).__init__()\n",
    "        \n",
    "        # an affine operation: y = Wx + b\n",
    "        self.linear = nn.Sequential(\n",
    "            nn.Linear(in_features=25, out_features=256),  # 2048 = conv.size(0) = #nodes in flattern layer\n",
    "            #nn.ReLU(inplace=True),\n",
    "            nn.Linear(in_features=256,out_features=128),  # 120, 84 - any node# I want\n",
    "            #nn.ReLU(inplace=True),\n",
    "            nn.Linear(in_features=128, out_features=num_classes) # 2 classes as output for binary problem\n",
    "        )\n",
    "        \n",
    "    def forward(self, x, hf):\n",
    "        flatten = torch.cat((x.view(x.size(0),-1),hf),dim=1) \n",
    "        output = self.linear(flatten)\n",
    "        # can add dropout?\n",
    "        \n",
    "        return output"
   ]
  },
  {
   "cell_type": "markdown",
   "metadata": {},
   "source": [
    "#### W/O Hand-crafted features"
   ]
  },
  {
   "cell_type": "code",
   "execution_count": 13,
   "metadata": {},
   "outputs": [],
   "source": [
    "class VarCallNet(nn.Module):\n",
    "\n",
    "    def __init__(self):\n",
    "        super(VarCallNet, self).__init__()\n",
    "        self.vc_conv = nn.Sequential(\n",
    "            # 2 in channel (alt_ratio & norm_read_depth), ? output channels, kernel = 3\n",
    "            nn.Conv1d(in_channels=9, out_channels=128, padding=1,kernel_size=3),\n",
    "            nn.SELU(inplace=True),\n",
    "            nn.MaxPool1d(kernel_size=2),\n",
    "            nn.Conv1d(in_channels=128, out_channels=256, padding=1, kernel_size=3),\n",
    "            nn.SELU(inplace=True),\n",
    "            nn.MaxPool1d(kernel_size=2)\n",
    "        )\n",
    "        \n",
    "        # an affine operation: y = Wx + b\n",
    "        self.linear = nn.Sequential(\n",
    "            nn.Linear(in_features=2048, out_features=256),  # 2048 = conv.size(0) = #nodes in flattern layer\n",
    "            nn.SELU(inplace=True),\n",
    "            nn.Linear(in_features=256,out_features=128),  # 120, 84 - any node# I want\n",
    "            nn.SELU(inplace=True),\n",
    "            nn.Linear(in_features=128, out_features=num_classes) # 2 classes as output for binary problem\n",
    "        )\n",
    "        \n",
    "    def forward(self, x):\n",
    "        conv = self.vc_conv(x)\n",
    "        flatten = conv.view(conv.size(0),-1)#(out_channel * temp_dim)\n",
    "        output = self.linear(flatten)\n",
    "        # can add dropout?\n",
    "        \n",
    "        return output"
   ]
  },
  {
   "cell_type": "markdown",
   "metadata": {},
   "source": [
    "#### Directly Add Hand-crafted Features at the Linear Layer"
   ]
  },
  {
   "cell_type": "code",
   "execution_count": 115,
   "metadata": {},
   "outputs": [],
   "source": [
    "# Directly add hf into the linear part\n",
    "class dir_add_hf_Net(nn.Module):\n",
    "\n",
    "    def __init__(self):\n",
    "        super(dir_add_hf_Net, self).__init__()\n",
    "        self.vc_conv = nn.Sequential(\n",
    "            # 2 in channel (alt_ratio & norm_read_depth), ? output channels, kernel = 3\n",
    "            nn.Conv1d(in_channels=9, out_channels=128, padding=1,kernel_size=3),\n",
    "            nn.SELU(inplace=True),\n",
    "            nn.MaxPool1d(kernel_size=2),\n",
    "            nn.Conv1d(in_channels=128, out_channels=256, padding=1, kernel_size=3),\n",
    "            nn.SELU(inplace=True),\n",
    "            nn.MaxPool1d(kernel_size=2)\n",
    "        )\n",
    "        \n",
    "        # for hand-crafted layers, first expand them into hidden notes\n",
    "        #self.hf_expand = nn.Sequential( )\n",
    "        \n",
    "        # an affine operation: y = Wx + b\n",
    "        self.linear = nn.Sequential(\n",
    "            nn.Linear(in_features=2060, out_features=256),  #515 = flatten layer nodes + # hf\n",
    "            nn.SELU(inplace=True),\n",
    "            nn.Linear(in_features=256,out_features=128),  # 120, 84 - any node# I want\n",
    "            nn.SELU(inplace=True),\n",
    "            nn.Linear(in_features=128, out_features=num_classes) # 2 classes as output for binary problem\n",
    "        )\n",
    "\n",
    "        \n",
    "    def forward(self, x, hf):\n",
    "        conv = self.vc_conv(x)\n",
    "        flatten = torch.cat((conv.view(conv.size(0),-1),hf),dim=1)#(out_channel * temp_dim)  ##### +hf\n",
    "        output = self.linear(flatten)\n",
    "        # can add dropout?\n",
    "        \n",
    "        return output"
   ]
  },
  {
   "cell_type": "markdown",
   "metadata": {},
   "source": [
    "#### Linear Expansion of features"
   ]
  },
  {
   "cell_type": "code",
   "execution_count": 15,
   "metadata": {},
   "outputs": [],
   "source": [
    "# Directly add hf into the linear part\n",
    "class hf_lp_Net(nn.Module):\n",
    "\n",
    "    def __init__(self):\n",
    "        super(hf_lp_Net, self).__init__()\n",
    "        self.vc_conv = nn.Sequential(\n",
    "            # 2 in channel (alt_ratio & norm_read_depth), ? output channels, kernel = 3\n",
    "            nn.Conv1d(in_channels=4, out_channels=128, padding=1,kernel_size=3),\n",
    "            nn.ReLU(inplace=True),\n",
    "            nn.MaxPool1d(kernel_size=2),\n",
    "            nn.Conv1d(in_channels=128, out_channels=256, padding=1, kernel_size=3),\n",
    "            nn.ReLU(inplace=True),\n",
    "            nn.MaxPool1d(kernel_size=2)\n",
    "        )\n",
    "        \n",
    "        # for hand-crafted layers, first expand them into hidden notes\n",
    "        self.hf_expand = nn.Sequential(\n",
    "            nn.Linear(in_features=3, out_features=256), \n",
    "            nn.ReLU(inplace=True)\n",
    "        )\n",
    "        \n",
    "        # an affine operation: y = Wx + b\n",
    "        self.linear = nn.Sequential(\n",
    "            nn.Linear(in_features=768, out_features=256),  #515 = flatten layer nodes + # hf\n",
    "            nn.Linear(in_features=256,out_features=128),  # 120, 84 - any node# I want\n",
    "            nn.Linear(in_features=128, out_features=num_classes) # 2 classes as output for binary problem\n",
    "        )\n",
    "\n",
    "    def forward(self, x, hf):\n",
    "        conv = self.vc_conv(x)\n",
    "        hf_lp = self.hf_expand(hf)\n",
    "        flatten = torch.cat((conv.view(conv.size(0),-1),hf_lp),dim=1)#(out_channel * lp_dim) \n",
    "        output = self.linear(flatten)\n",
    "        # can add dropout?\n",
    "        \n",
    "        return output"
   ]
  },
  {
   "cell_type": "markdown",
   "metadata": {},
   "source": [
    "#### Logistic Regression as Control"
   ]
  },
  {
   "cell_type": "code",
   "execution_count": 16,
   "metadata": {},
   "outputs": [],
   "source": [
    "class LogisticRegression(nn.Module):\n",
    "    def __init__(self):\n",
    "        super(LogisticRegression, self).__init__()\n",
    "        self.linear = torch.nn.Linear(168, num_classes) # 32 x 4 + 7 (3 hf + 4 mid feature)\n",
    "\n",
    "    def forward(self, x, hf):\n",
    "        flatten = torch.cat((x.view(x.size(0),-1),hf),dim=1)#(out_channel * temp_dim) +hf\n",
    "        outputs = self.linear(flatten)\n",
    "        #outputs = self.linear(x)\n",
    "        return outputs"
   ]
  },
  {
   "cell_type": "markdown",
   "metadata": {},
   "source": [
    "#### Train &  Test"
   ]
  },
  {
   "cell_type": "code",
   "execution_count": 65,
   "metadata": {},
   "outputs": [],
   "source": [
    "def train(net,mode,criterion,optimizer,scheduler,n_epochs,train_loader,val_loader):\n",
    "    start = datetime.now()\n",
    "    train_list =[]\n",
    "    val_list = [] \n",
    "    \n",
    "    for epoch in range(n_epochs): \n",
    "\n",
    "        # iterate over data\n",
    "        for i, data in enumerate(train_loader):  \n",
    "            # Convert torch tensor to Variable\n",
    "            pos = data['pos'].to(device)\n",
    "            features = data['feature'].to(device)\n",
    "            labels = data['label'].squeeze(1).to(device=device, dtype=torch.int64) # crossentropy receive N of labels, change from [0, C-1]            hf = data['hf'].to(device)\n",
    "            hf =  data['hf'].to(device)\n",
    "            # Forward + Backward + Optimize\n",
    "            \n",
    "            optimizer.zero_grad()  # zero the gradient buffer\n",
    "            if mode == 'no_hf':\n",
    "                outputs = net(features)\n",
    "            else:\n",
    "                outputs = net(features,hf)\n",
    "\n",
    "            loss = criterion(outputs, labels)\n",
    "            loss.backward()\n",
    "            optimizer.step()\n",
    "        \n",
    "            if (i+1) % 64 == 0:\n",
    "                ### calculate validation acc\n",
    "                with torch.no_grad():\n",
    "                    val_correct = 0\n",
    "                    val_total = 0\n",
    "                    for val_data in val_loader:\n",
    "                        val_inputs, val_labels = val_data['feature'].to(device), val_data['label'].squeeze(1).to(device=device, dtype=torch.int64) \n",
    "                        val_hf = val_data['hf'].to(device)\n",
    "                        \n",
    "                        if mode == 'no_hf':\n",
    "                            val_outputs = net(val_inputs)\n",
    "                        else:\n",
    "                            val_outputs = net(val_inputs, val_hf)\n",
    "                        \n",
    "                        _, val_predicted = torch.max(val_outputs.data, 1)\n",
    "                        val_total += val_labels.size(0)\n",
    "                        val_correct += (val_predicted == val_labels).sum().item()\n",
    "                ###\n",
    "                lr_step = optimizer.state_dict()[\"param_groups\"][0][\"lr\"]\n",
    "                \n",
    "                print ('Epoch [%d/%d], Step [%d/%d], Train Xent Loss: %.4f' \n",
    "                        %(epoch+1, n_epochs, i+1, len(train_dataset)//batch_size, loss.data))\n",
    "                \n",
    "                ## For DEBUG:\n",
    "                if torch.isnan(loss.data):\n",
    "                    print(\"POSPOSPOS: \",pos)\n",
    "                print(\"learning rate: \", lr_step)\n",
    "                # print train scores and val scores\n",
    "                _, predicted = torch.max(outputs.data, 1)\n",
    "                total = labels.size(0)\n",
    "                correct = (predicted == labels).sum().item()\n",
    "\n",
    "            \n",
    "                print('Train Acc: %.4f %%, Val Acc: %.4f %%' \n",
    "                      % (100 * correct / total, 100 * val_correct / val_total))\n",
    "                train_list.append(100 * correct / total)\n",
    "                val_list.append(100 * val_correct / val_total)\n",
    "        # update LR after each epoch\n",
    "        scheduler.step()\n",
    "    \n",
    "    ### Find the samples in val set that are wrong\n",
    "    \n",
    "    with torch.no_grad():\n",
    "        false_pos_list = []\n",
    "        for val_data in val_loader:\n",
    "            val_inputs, val_labels = val_data['feature'].to(device), val_data['label'].squeeze(1).to(device=device, dtype=torch.int64) \n",
    "            val_hf = val_data['hf'].to(device)\n",
    "            val_pos = val_data['pos']\n",
    "                        \n",
    "            if mode == 'no_hf':\n",
    "                val_outputs = net(val_inputs)\n",
    "            else:\n",
    "                val_outputs = net(val_inputs, val_hf)\n",
    "                        \n",
    "            _, val_predicted = torch.max(val_outputs.data, 1)\n",
    "            false_pos_list.append(val_pos[val_predicted != val_labels])\n",
    "            \n",
    "    ############\n",
    "    \n",
    "    end = datetime.now()\n",
    "    total_time = end-start\n",
    "    print('Time elapsed (hh:mm:ss.ms) {}'.format(total_time))\n",
    "    return false_pos_list,train_list,val_list"
   ]
  },
  {
   "cell_type": "code",
   "execution_count": 66,
   "metadata": {},
   "outputs": [],
   "source": [
    "def test_acc(net,mode,criterion,optimizer,n_epochs,test_loader):# Get test accuracy.\n",
    "    correct = 0\n",
    "    total = 0\n",
    "    with torch.no_grad():\n",
    "        for data in test_loader:\n",
    "            inputs, labels = data['feature'].to(device), data['label'].squeeze(1).to(device=device, dtype=torch.int64) \n",
    "            hf = data['hf'].to(device)\n",
    "            if mode == 'no_hf':\n",
    "                vc_outputs = net(inputs)\n",
    "            else:\n",
    "                vc_outputs = net(inputs, hf)\n",
    "                \n",
    "            _, predicted = torch.max(vc_outputs.data, 1)\n",
    "            total += labels.size(0)\n",
    "            correct += (predicted == labels).sum().item()\n",
    "\n",
    "    print('Accuracy of the network on the test data: %.4f %%' % (\n",
    "        100 * correct / total))"
   ]
  },
  {
   "cell_type": "code",
   "execution_count": 67,
   "metadata": {},
   "outputs": [],
   "source": [
    "def test_each_acc(net,mode,criterion,optimizer,n_epochs,test_loader):# Get test accuracy for each class.\n",
    "    classes = ['Wrong VC','True VC']\n",
    "    class_correct = list(0. for i in range(2))\n",
    "    class_total = list(0. for i in range(2))\n",
    "\n",
    "    with torch.no_grad():\n",
    "        for data in test_loader:\n",
    "            inputs, labels = data['feature'].to(device), data['label'].squeeze(1).to(device=device, dtype=torch.int64)\n",
    "            hf = data['hf'].to(device)\n",
    "            if mode == 'no_hf':\n",
    "                vc_outputs = net(inputs)\n",
    "            else:\n",
    "                vc_outputs = net(inputs, hf)\n",
    "                \n",
    "            _, predicted = torch.max(vc_outputs, 1)\n",
    "            c = (predicted == labels).squeeze()\n",
    "        \n",
    "            for i in range(len(labels)):\n",
    "                label = labels[i]\n",
    "                class_correct[label] += c[i].item()\n",
    "                class_total[label] += 1\n",
    "\n",
    "    for i in range(2):\n",
    "        print('Accuracy of %5s : %.4f %%' % (\n",
    "            classes[i], 100 * class_correct[i] / class_total[i]))\n",
    "        \n",
    "    tp = class_correct[1]\n",
    "    fp = class_total[1] - tp\n",
    "    tn = class_correct[0]\n",
    "    fn = class_total[0] - tn\n",
    "    precision = tp/(tp+fp)\n",
    "    recall = tp/(tp+fn)\n",
    "    f1_score = 2*precision*recall/(precision+recall)\n",
    "    print('Precision: %.4f Recall: %.4f  F1 score: %.4f' \n",
    "          %(precision, recall, f1_score))"
   ]
  },
  {
   "cell_type": "markdown",
   "metadata": {},
   "source": [
    "### Training the Model & Test Results"
   ]
  },
  {
   "cell_type": "code",
   "execution_count": 68,
   "metadata": {},
   "outputs": [
    {
     "name": "stdout",
     "output_type": "stream",
     "text": [
      "cpu\n"
     ]
    }
   ],
   "source": [
    "device = torch.device(\"cuda:0\" if torch.cuda.is_available() else \"cpu\")\n",
    "print(device)\n",
    "#net.to(device)"
   ]
  },
  {
   "cell_type": "markdown",
   "metadata": {},
   "source": [
    "#### With hand-crafted features"
   ]
  },
  {
   "cell_type": "code",
   "execution_count": 116,
   "metadata": {},
   "outputs": [],
   "source": [
    "### 2. With hand-crafted Features\n",
    "net = dir_add_hf_Net().to(device)\n",
    "criterion = nn.CrossEntropyLoss() # only two classes, binary question\n",
    "optimizer = optim.SGD(net.parameters(), lr=learning_rate, momentum=0.9) # SGD is great, but could also try other optimiers\n",
    "scheduler = optim.lr_scheduler.StepLR(optimizer, step_size=10, gamma=0.3) # learning rate "
   ]
  },
  {
   "cell_type": "code",
   "execution_count": 117,
   "metadata": {},
   "outputs": [
    {
     "data": {
      "text/plain": [
       "dir_add_hf_Net(\n",
       "  (vc_conv): Sequential(\n",
       "    (0): Conv1d(9, 128, kernel_size=(3,), stride=(1,), padding=(1,))\n",
       "    (1): SELU(inplace=True)\n",
       "    (2): MaxPool1d(kernel_size=2, stride=2, padding=0, dilation=1, ceil_mode=False)\n",
       "    (3): Conv1d(128, 256, kernel_size=(3,), stride=(1,), padding=(1,))\n",
       "    (4): SELU(inplace=True)\n",
       "    (5): MaxPool1d(kernel_size=2, stride=2, padding=0, dilation=1, ceil_mode=False)\n",
       "  )\n",
       "  (linear): Sequential(\n",
       "    (0): Linear(in_features=2060, out_features=256, bias=True)\n",
       "    (1): SELU(inplace=True)\n",
       "    (2): Linear(in_features=256, out_features=128, bias=True)\n",
       "    (3): SELU(inplace=True)\n",
       "    (4): Linear(in_features=128, out_features=2, bias=True)\n",
       "  )\n",
       ")"
      ]
     },
     "execution_count": 117,
     "metadata": {},
     "output_type": "execute_result"
    }
   ],
   "source": [
    "net.apply(weights_init) "
   ]
  },
  {
   "cell_type": "code",
   "execution_count": 118,
   "metadata": {
    "scrolled": true
   },
   "outputs": [
    {
     "name": "stdout",
     "output_type": "stream",
     "text": [
      "Epoch [1/50], Step [64/65], Train Xent Loss: 0.2181\n",
      "learning rate:  0.001\n",
      "Train Acc: 92.0000 %, Val Acc: 92.7096 %\n",
      "Epoch [2/50], Step [64/65], Train Xent Loss: 0.1814\n",
      "learning rate:  0.001\n",
      "Train Acc: 96.0000 %, Val Acc: 94.6537 %\n",
      "Epoch [3/50], Step [64/65], Train Xent Loss: 0.1743\n",
      "learning rate:  0.001\n",
      "Train Acc: 96.0000 %, Val Acc: 94.8967 %\n",
      "Epoch [4/50], Step [64/65], Train Xent Loss: 0.0953\n",
      "learning rate:  0.001\n",
      "Train Acc: 98.0000 %, Val Acc: 95.7473 %\n",
      "Epoch [5/50], Step [64/65], Train Xent Loss: 0.0504\n",
      "learning rate:  0.001\n",
      "Train Acc: 99.0000 %, Val Acc: 96.3548 %\n",
      "Epoch [6/50], Step [64/65], Train Xent Loss: 0.1339\n",
      "learning rate:  0.001\n",
      "Train Acc: 96.0000 %, Val Acc: 96.9623 %\n",
      "Epoch [7/50], Step [64/65], Train Xent Loss: 0.1009\n",
      "learning rate:  0.001\n",
      "Train Acc: 96.0000 %, Val Acc: 97.0838 %\n",
      "Epoch [8/50], Step [64/65], Train Xent Loss: 0.0742\n",
      "learning rate:  0.001\n",
      "Train Acc: 98.0000 %, Val Acc: 97.4484 %\n",
      "Epoch [9/50], Step [64/65], Train Xent Loss: 0.0889\n",
      "learning rate:  0.001\n",
      "Train Acc: 98.0000 %, Val Acc: 97.3269 %\n",
      "Epoch [10/50], Step [64/65], Train Xent Loss: 0.0328\n",
      "learning rate:  0.001\n",
      "Train Acc: 99.0000 %, Val Acc: 97.4484 %\n",
      "Epoch [11/50], Step [64/65], Train Xent Loss: 0.0284\n",
      "learning rate:  0.0003\n",
      "Train Acc: 100.0000 %, Val Acc: 97.5699 %\n",
      "Epoch [12/50], Step [64/65], Train Xent Loss: 0.0748\n",
      "learning rate:  0.0003\n",
      "Train Acc: 98.0000 %, Val Acc: 97.5699 %\n",
      "Epoch [13/50], Step [64/65], Train Xent Loss: 0.0372\n",
      "learning rate:  0.0003\n",
      "Train Acc: 99.0000 %, Val Acc: 97.5699 %\n",
      "Epoch [14/50], Step [64/65], Train Xent Loss: 0.0680\n",
      "learning rate:  0.0003\n",
      "Train Acc: 97.0000 %, Val Acc: 97.6914 %\n",
      "Epoch [15/50], Step [64/65], Train Xent Loss: 0.0470\n",
      "learning rate:  0.0003\n",
      "Train Acc: 99.0000 %, Val Acc: 97.5699 %\n",
      "Epoch [16/50], Step [64/65], Train Xent Loss: 0.0909\n",
      "learning rate:  0.0003\n",
      "Train Acc: 98.0000 %, Val Acc: 97.5699 %\n",
      "Epoch [17/50], Step [64/65], Train Xent Loss: 0.0952\n",
      "learning rate:  0.0003\n",
      "Train Acc: 99.0000 %, Val Acc: 97.3269 %\n",
      "Epoch [18/50], Step [64/65], Train Xent Loss: 0.1572\n",
      "learning rate:  0.0003\n",
      "Train Acc: 95.0000 %, Val Acc: 97.5699 %\n",
      "Epoch [19/50], Step [64/65], Train Xent Loss: 0.0937\n",
      "learning rate:  0.0003\n",
      "Train Acc: 97.0000 %, Val Acc: 97.3269 %\n",
      "Epoch [20/50], Step [64/65], Train Xent Loss: 0.0677\n",
      "learning rate:  0.0003\n",
      "Train Acc: 98.0000 %, Val Acc: 97.6914 %\n",
      "Epoch [21/50], Step [64/65], Train Xent Loss: 0.0885\n",
      "learning rate:  8.999999999999999e-05\n",
      "Train Acc: 98.0000 %, Val Acc: 97.3269 %\n",
      "Epoch [22/50], Step [64/65], Train Xent Loss: 0.0582\n",
      "learning rate:  8.999999999999999e-05\n",
      "Train Acc: 99.0000 %, Val Acc: 97.3269 %\n",
      "Epoch [23/50], Step [64/65], Train Xent Loss: 0.1012\n",
      "learning rate:  8.999999999999999e-05\n",
      "Train Acc: 98.0000 %, Val Acc: 97.3269 %\n",
      "Epoch [24/50], Step [64/65], Train Xent Loss: 0.0651\n",
      "learning rate:  8.999999999999999e-05\n",
      "Train Acc: 97.0000 %, Val Acc: 97.5699 %\n",
      "Epoch [25/50], Step [64/65], Train Xent Loss: 0.0506\n",
      "learning rate:  8.999999999999999e-05\n",
      "Train Acc: 99.0000 %, Val Acc: 97.2053 %\n",
      "Epoch [26/50], Step [64/65], Train Xent Loss: 0.0500\n",
      "learning rate:  8.999999999999999e-05\n",
      "Train Acc: 97.0000 %, Val Acc: 97.5699 %\n",
      "Epoch [27/50], Step [64/65], Train Xent Loss: 0.1522\n",
      "learning rate:  8.999999999999999e-05\n",
      "Train Acc: 96.0000 %, Val Acc: 97.6914 %\n",
      "Epoch [28/50], Step [64/65], Train Xent Loss: 0.0905\n",
      "learning rate:  8.999999999999999e-05\n",
      "Train Acc: 95.0000 %, Val Acc: 97.5699 %\n",
      "Epoch [29/50], Step [64/65], Train Xent Loss: 0.0583\n",
      "learning rate:  8.999999999999999e-05\n",
      "Train Acc: 98.0000 %, Val Acc: 97.3269 %\n",
      "Epoch [30/50], Step [64/65], Train Xent Loss: 0.0978\n",
      "learning rate:  8.999999999999999e-05\n",
      "Train Acc: 96.0000 %, Val Acc: 97.6914 %\n",
      "Epoch [31/50], Step [64/65], Train Xent Loss: 0.0747\n",
      "learning rate:  2.6999999999999996e-05\n",
      "Train Acc: 95.0000 %, Val Acc: 97.5699 %\n",
      "Epoch [32/50], Step [64/65], Train Xent Loss: 0.0279\n",
      "learning rate:  2.6999999999999996e-05\n",
      "Train Acc: 100.0000 %, Val Acc: 97.5699 %\n",
      "Epoch [33/50], Step [64/65], Train Xent Loss: 0.0950\n",
      "learning rate:  2.6999999999999996e-05\n",
      "Train Acc: 98.0000 %, Val Acc: 97.5699 %\n",
      "Epoch [34/50], Step [64/65], Train Xent Loss: 0.1359\n",
      "learning rate:  2.6999999999999996e-05\n",
      "Train Acc: 96.0000 %, Val Acc: 97.5699 %\n",
      "Epoch [35/50], Step [64/65], Train Xent Loss: 0.1024\n",
      "learning rate:  2.6999999999999996e-05\n",
      "Train Acc: 95.0000 %, Val Acc: 97.4484 %\n",
      "Epoch [36/50], Step [64/65], Train Xent Loss: 0.0785\n",
      "learning rate:  2.6999999999999996e-05\n",
      "Train Acc: 96.0000 %, Val Acc: 97.5699 %\n",
      "Epoch [37/50], Step [64/65], Train Xent Loss: 0.0701\n",
      "learning rate:  2.6999999999999996e-05\n",
      "Train Acc: 96.0000 %, Val Acc: 97.5699 %\n",
      "Epoch [38/50], Step [64/65], Train Xent Loss: 0.0448\n",
      "learning rate:  2.6999999999999996e-05\n",
      "Train Acc: 98.0000 %, Val Acc: 97.5699 %\n",
      "Epoch [39/50], Step [64/65], Train Xent Loss: 0.0878\n",
      "learning rate:  2.6999999999999996e-05\n",
      "Train Acc: 97.0000 %, Val Acc: 97.6914 %\n",
      "Epoch [40/50], Step [64/65], Train Xent Loss: 0.0665\n",
      "learning rate:  2.6999999999999996e-05\n",
      "Train Acc: 98.0000 %, Val Acc: 97.3269 %\n",
      "Epoch [41/50], Step [64/65], Train Xent Loss: 0.0460\n",
      "learning rate:  8.1e-06\n",
      "Train Acc: 98.0000 %, Val Acc: 97.5699 %\n",
      "Epoch [42/50], Step [64/65], Train Xent Loss: 0.0753\n",
      "learning rate:  8.1e-06\n",
      "Train Acc: 97.0000 %, Val Acc: 97.5699 %\n",
      "Epoch [43/50], Step [64/65], Train Xent Loss: 0.1146\n",
      "learning rate:  8.1e-06\n",
      "Train Acc: 98.0000 %, Val Acc: 97.5699 %\n",
      "Epoch [44/50], Step [64/65], Train Xent Loss: 0.0264\n",
      "learning rate:  8.1e-06\n",
      "Train Acc: 100.0000 %, Val Acc: 97.5699 %\n",
      "Epoch [45/50], Step [64/65], Train Xent Loss: 0.1117\n",
      "learning rate:  8.1e-06\n",
      "Train Acc: 95.0000 %, Val Acc: 97.5699 %\n",
      "Epoch [46/50], Step [64/65], Train Xent Loss: 0.0655\n",
      "learning rate:  8.1e-06\n",
      "Train Acc: 99.0000 %, Val Acc: 97.5699 %\n",
      "Epoch [47/50], Step [64/65], Train Xent Loss: 0.0678\n",
      "learning rate:  8.1e-06\n",
      "Train Acc: 97.0000 %, Val Acc: 97.5699 %\n",
      "Epoch [48/50], Step [64/65], Train Xent Loss: 0.1207\n",
      "learning rate:  8.1e-06\n",
      "Train Acc: 97.0000 %, Val Acc: 97.5699 %\n",
      "Epoch [49/50], Step [64/65], Train Xent Loss: 0.0266\n",
      "learning rate:  8.1e-06\n",
      "Train Acc: 99.0000 %, Val Acc: 97.5699 %\n",
      "Epoch [50/50], Step [64/65], Train Xent Loss: 0.1278\n",
      "learning rate:  8.1e-06\n",
      "Train Acc: 93.0000 %, Val Acc: 97.5699 %\n",
      "Time elapsed (hh:mm:ss.ms) 0:11:37.393670\n"
     ]
    }
   ],
   "source": [
    "mis_list,train_list,val_list = train(net,'hf',criterion,optimizer,scheduler,n_epochs,train_loader,val_loader)"
   ]
  },
  {
   "cell_type": "code",
   "execution_count": 119,
   "metadata": {},
   "outputs": [
    {
     "data": {
      "image/png": "[encoded data removed]",
      "text/plain": [
       "<Figure size 432x288 with 1 Axes>"
      ]
     },
     "metadata": {
      "needs_background": "light"
     },
     "output_type": "display_data"
    }
   ],
   "source": [
    "# Plot train - val acc curve\n",
    "plt.plot(train_list,label=\"Training ACC\")\n",
    "plt.plot(val_list,label=\"Validation ACC\")\n",
    "plt.xlabel(\"# of Iterations\")\n",
    "plt.ylabel(\"Accuracy(%)\")\n",
    "plt.legend()\n",
    "plt.show()"
   ]
  },
  {
   "cell_type": "code",
   "execution_count": 120,
   "metadata": {},
   "outputs": [
    {
     "name": "stdout",
     "output_type": "stream",
     "text": [
      "Accuracy of the network on the test data: 96.3548 %\n"
     ]
    }
   ],
   "source": [
    "test_acc(net,'hf',criterion,optimizer,n_epochs,test_loader)"
   ]
  },
  {
   "cell_type": "code",
   "execution_count": 121,
   "metadata": {},
   "outputs": [
    {
     "name": "stdout",
     "output_type": "stream",
     "text": [
      "Accuracy of Wrong VC : 97.4828 %\n",
      "Accuracy of True VC : 95.0777 %\n",
      "Precision: 0.9508 Recall: 0.9709  F1 score: 0.9607\n"
     ]
    }
   ],
   "source": [
    "test_each_acc(net,'hf',criterion,optimizer,n_epochs,test_loader)"
   ]
  },
  {
   "cell_type": "code",
   "execution_count": 62,
   "metadata": {},
   "outputs": [],
   "source": [
    "# for auPRC\n",
    "val_pred_list = []\n",
    "val_true_list = []\n",
    "mode = \"hf\"\n",
    "\n",
    "with torch.no_grad():\n",
    "    for val_data in val_loader:\n",
    "        val_inputs, val_labels = val_data['feature'].to(device), val_data['label'].squeeze(1).to(device=device, dtype=torch.int64) \n",
    "        val_hf = val_data['hf'].to(device)\n",
    "        val_pos = val_data['pos']\n",
    "                        \n",
    "        if mode == 'no_hf':\n",
    "                val_outputs = net(val_inputs)\n",
    "        else:\n",
    "            val_outputs = net(val_inputs, val_hf)\n",
    "                        \n",
    "        _, val_predicted = torch.max(val_outputs.data, 1)\n",
    "        val_pred_list.append(val_predicted)\n",
    "        val_true_list.append(val_labels)"
   ]
  },
  {
   "cell_type": "code",
   "execution_count": 78,
   "metadata": {},
   "outputs": [],
   "source": [
    "val_pred = [i.numpy() for i in val_pred_list] \n",
    "val_pred = np.concatenate(val_pred).ravel()\n",
    "val_true = [i.numpy() for i in val_true_list] \n",
    "val_true = np.concatenate(val_true).ravel()"
   ]
  },
  {
   "cell_type": "code",
   "execution_count": 83,
   "metadata": {},
   "outputs": [],
   "source": [
    "# calculate auPRC for validation set\n",
    "auprc = average_precision_score(val_true, val_pred)\n",
    "prec, rec, thres = precision_recall_curve(val_true, val_pred)"
   ]
  },
  {
   "cell_type": "code",
   "execution_count": 85,
   "metadata": {},
   "outputs": [
    {
     "data": {
      "text/plain": [
       "<matplotlib.collections.PathCollection at 0x14a20d3c8>"
      ]
     },
     "execution_count": 85,
     "metadata": {},
     "output_type": "execute_result"
    },
    {
     "data": {
      "image/png": "[encoded data removed]",
      "text/plain": [
       "<Figure size 432x288 with 1 Axes>"
      ]
     },
     "metadata": {
      "needs_background": "light"
     },
     "output_type": "display_data"
    }
   ],
   "source": [
    "plt.scatter(prec,rec)"
   ]
  },
  {
   "cell_type": "markdown",
   "metadata": {},
   "source": [
    "#### No hand-crafted features"
   ]
  },
  {
   "cell_type": "code",
   "execution_count": 31,
   "metadata": {},
   "outputs": [],
   "source": [
    "### 1. No hand-crafted Features\n",
    "net = VarCallNet().to(device)\n",
    "criterion = nn.CrossEntropyLoss() # only two classes, binary question\n",
    "optimizer = optim.SGD(net.parameters(), lr=learning_rate, momentum=0.9) # SGD is great, but could also try other optimiers\n",
    "scheduler = optim.lr_scheduler.StepLR(optimizer, step_size=10, gamma=0.3) # learning rate "
   ]
  },
  {
   "cell_type": "code",
   "execution_count": 32,
   "metadata": {},
   "outputs": [
    {
     "data": {
      "text/plain": [
       "VarCallNet(\n",
       "  (vc_conv): Sequential(\n",
       "    (0): Conv1d(5, 128, kernel_size=(3,), stride=(1,), padding=(1,))\n",
       "    (1): SELU(inplace=True)\n",
       "    (2): MaxPool1d(kernel_size=2, stride=2, padding=0, dilation=1, ceil_mode=False)\n",
       "    (3): Conv1d(128, 256, kernel_size=(3,), stride=(1,), padding=(1,))\n",
       "    (4): SELU(inplace=True)\n",
       "    (5): MaxPool1d(kernel_size=2, stride=2, padding=0, dilation=1, ceil_mode=False)\n",
       "  )\n",
       "  (linear): Sequential(\n",
       "    (0): Linear(in_features=2048, out_features=256, bias=True)\n",
       "    (1): SELU(inplace=True)\n",
       "    (2): Linear(in_features=256, out_features=128, bias=True)\n",
       "    (3): SELU(inplace=True)\n",
       "    (4): Linear(in_features=128, out_features=2, bias=True)\n",
       "  )\n",
       ")"
      ]
     },
     "execution_count": 32,
     "metadata": {},
     "output_type": "execute_result"
    }
   ],
   "source": [
    "net.apply(weights_init) "
   ]
  },
  {
   "cell_type": "code",
   "execution_count": 33,
   "metadata": {},
   "outputs": [
    {
     "name": "stdout",
     "output_type": "stream",
     "text": [
      "Epoch [1/50], Step [64/65], Train Xent Loss: 0.2476\n",
      "learning rate:  0.001\n",
      "Train Acc: 89.0000 %, Val Acc: 87.8197 %\n",
      "Epoch [2/50], Step [64/65], Train Xent Loss: 0.2092\n",
      "learning rate:  0.001\n",
      "Train Acc: 93.0000 %, Val Acc: 92.4482 %\n",
      "Epoch [3/50], Step [64/65], Train Xent Loss: 0.1421\n",
      "learning rate:  0.001\n",
      "Train Acc: 95.0000 %, Val Acc: 93.9099 %\n",
      "Epoch [4/50], Step [64/65], Train Xent Loss: 0.0979\n",
      "learning rate:  0.001\n",
      "Train Acc: 98.0000 %, Val Acc: 96.5895 %\n",
      "Epoch [5/50], Step [64/65], Train Xent Loss: 0.1333\n",
      "learning rate:  0.001\n",
      "Train Acc: 94.0000 %, Val Acc: 96.9549 %\n",
      "Epoch [6/50], Step [64/65], Train Xent Loss: 0.2111\n",
      "learning rate:  0.001\n",
      "Train Acc: 95.0000 %, Val Acc: 96.9549 %\n",
      "Epoch [7/50], Step [64/65], Train Xent Loss: 0.1002\n",
      "learning rate:  0.001\n",
      "Train Acc: 97.0000 %, Val Acc: 96.9549 %\n",
      "Epoch [8/50], Step [64/65], Train Xent Loss: 0.1100\n",
      "learning rate:  0.001\n",
      "Train Acc: 97.0000 %, Val Acc: 97.3203 %\n",
      "Epoch [9/50], Step [64/65], Train Xent Loss: 0.0441\n",
      "learning rate:  0.001\n",
      "Train Acc: 100.0000 %, Val Acc: 97.5639 %\n",
      "Epoch [10/50], Step [64/65], Train Xent Loss: 0.1035\n",
      "learning rate:  0.001\n",
      "Train Acc: 95.0000 %, Val Acc: 96.8331 %\n",
      "Epoch [11/50], Step [64/65], Train Xent Loss: 0.0663\n",
      "learning rate:  0.0003\n",
      "Train Acc: 97.0000 %, Val Acc: 97.3203 %\n",
      "Epoch [12/50], Step [64/65], Train Xent Loss: 0.0994\n",
      "learning rate:  0.0003\n",
      "Train Acc: 97.0000 %, Val Acc: 97.5639 %\n",
      "Epoch [13/50], Step [64/65], Train Xent Loss: 0.0837\n",
      "learning rate:  0.0003\n",
      "Train Acc: 99.0000 %, Val Acc: 97.3203 %\n",
      "Epoch [14/50], Step [64/65], Train Xent Loss: 0.0530\n",
      "learning rate:  0.0003\n",
      "Train Acc: 99.0000 %, Val Acc: 97.4421 %\n",
      "Epoch [15/50], Step [64/65], Train Xent Loss: 0.0677\n",
      "learning rate:  0.0003\n",
      "Train Acc: 97.0000 %, Val Acc: 97.4421 %\n",
      "Epoch [16/50], Step [64/65], Train Xent Loss: 0.0726\n",
      "learning rate:  0.0003\n",
      "Train Acc: 98.0000 %, Val Acc: 97.3203 %\n",
      "Epoch [17/50], Step [64/65], Train Xent Loss: 0.0481\n",
      "learning rate:  0.0003\n",
      "Train Acc: 99.0000 %, Val Acc: 97.5639 %\n",
      "Epoch [18/50], Step [64/65], Train Xent Loss: 0.1059\n",
      "learning rate:  0.0003\n",
      "Train Acc: 98.0000 %, Val Acc: 97.1985 %\n",
      "Epoch [19/50], Step [64/65], Train Xent Loss: 0.1006\n",
      "learning rate:  0.0003\n",
      "Train Acc: 96.0000 %, Val Acc: 97.3203 %\n",
      "Epoch [20/50], Step [64/65], Train Xent Loss: 0.0915\n",
      "learning rate:  0.0003\n",
      "Train Acc: 97.0000 %, Val Acc: 97.3203 %\n",
      "Epoch [21/50], Step [64/65], Train Xent Loss: 0.0370\n",
      "learning rate:  8.999999999999999e-05\n",
      "Train Acc: 99.0000 %, Val Acc: 97.4421 %\n",
      "Epoch [22/50], Step [64/65], Train Xent Loss: 0.0726\n",
      "learning rate:  8.999999999999999e-05\n",
      "Train Acc: 97.0000 %, Val Acc: 97.5639 %\n",
      "Epoch [23/50], Step [64/65], Train Xent Loss: 0.0283\n",
      "learning rate:  8.999999999999999e-05\n",
      "Train Acc: 100.0000 %, Val Acc: 97.4421 %\n",
      "Epoch [24/50], Step [64/65], Train Xent Loss: 0.0807\n",
      "learning rate:  8.999999999999999e-05\n",
      "Train Acc: 97.0000 %, Val Acc: 97.4421 %\n",
      "Epoch [25/50], Step [64/65], Train Xent Loss: 0.0685\n",
      "learning rate:  8.999999999999999e-05\n",
      "Train Acc: 98.0000 %, Val Acc: 97.5639 %\n",
      "Epoch [26/50], Step [64/65], Train Xent Loss: 0.0746\n",
      "learning rate:  8.999999999999999e-05\n",
      "Train Acc: 98.0000 %, Val Acc: 97.5639 %\n",
      "Epoch [27/50], Step [64/65], Train Xent Loss: 0.0739\n",
      "learning rate:  8.999999999999999e-05\n",
      "Train Acc: 96.0000 %, Val Acc: 97.4421 %\n",
      "Epoch [28/50], Step [64/65], Train Xent Loss: 0.0955\n",
      "learning rate:  8.999999999999999e-05\n",
      "Train Acc: 97.0000 %, Val Acc: 97.3203 %\n",
      "Epoch [29/50], Step [64/65], Train Xent Loss: 0.1212\n",
      "learning rate:  8.999999999999999e-05\n",
      "Train Acc: 98.0000 %, Val Acc: 97.5639 %\n",
      "Epoch [30/50], Step [64/65], Train Xent Loss: 0.0584\n",
      "learning rate:  8.999999999999999e-05\n",
      "Train Acc: 98.0000 %, Val Acc: 97.5639 %\n",
      "Epoch [31/50], Step [64/65], Train Xent Loss: 0.0320\n",
      "learning rate:  2.6999999999999996e-05\n",
      "Train Acc: 100.0000 %, Val Acc: 97.4421 %\n",
      "Epoch [32/50], Step [64/65], Train Xent Loss: 0.1095\n",
      "learning rate:  2.6999999999999996e-05\n",
      "Train Acc: 96.0000 %, Val Acc: 97.3203 %\n",
      "Epoch [33/50], Step [64/65], Train Xent Loss: 0.0477\n",
      "learning rate:  2.6999999999999996e-05\n",
      "Train Acc: 99.0000 %, Val Acc: 97.3203 %\n",
      "Epoch [34/50], Step [64/65], Train Xent Loss: 0.0711\n",
      "learning rate:  2.6999999999999996e-05\n",
      "Train Acc: 96.0000 %, Val Acc: 97.4421 %\n",
      "Epoch [35/50], Step [64/65], Train Xent Loss: 0.0568\n",
      "learning rate:  2.6999999999999996e-05\n",
      "Train Acc: 97.0000 %, Val Acc: 97.4421 %\n",
      "Epoch [36/50], Step [64/65], Train Xent Loss: 0.0624\n",
      "learning rate:  2.6999999999999996e-05\n",
      "Train Acc: 98.0000 %, Val Acc: 97.4421 %\n",
      "Epoch [37/50], Step [64/65], Train Xent Loss: 0.0754\n",
      "learning rate:  2.6999999999999996e-05\n",
      "Train Acc: 98.0000 %, Val Acc: 97.4421 %\n",
      "Epoch [38/50], Step [64/65], Train Xent Loss: 0.0437\n",
      "learning rate:  2.6999999999999996e-05\n",
      "Train Acc: 99.0000 %, Val Acc: 97.3203 %\n",
      "Epoch [39/50], Step [64/65], Train Xent Loss: 0.0497\n",
      "learning rate:  2.6999999999999996e-05\n",
      "Train Acc: 98.0000 %, Val Acc: 97.4421 %\n",
      "Epoch [40/50], Step [64/65], Train Xent Loss: 0.0656\n",
      "learning rate:  2.6999999999999996e-05\n",
      "Train Acc: 98.0000 %, Val Acc: 97.4421 %\n",
      "Epoch [41/50], Step [64/65], Train Xent Loss: 0.0347\n",
      "learning rate:  8.1e-06\n",
      "Train Acc: 100.0000 %, Val Acc: 97.5639 %\n",
      "Epoch [42/50], Step [64/65], Train Xent Loss: 0.0624\n",
      "learning rate:  8.1e-06\n",
      "Train Acc: 98.0000 %, Val Acc: 97.3203 %\n",
      "Epoch [43/50], Step [64/65], Train Xent Loss: 0.0432\n",
      "learning rate:  8.1e-06\n",
      "Train Acc: 98.0000 %, Val Acc: 97.3203 %\n",
      "Epoch [44/50], Step [64/65], Train Xent Loss: 0.0965\n",
      "learning rate:  8.1e-06\n",
      "Train Acc: 95.0000 %, Val Acc: 97.4421 %\n",
      "Epoch [45/50], Step [64/65], Train Xent Loss: 0.0968\n",
      "learning rate:  8.1e-06\n",
      "Train Acc: 98.0000 %, Val Acc: 97.3203 %\n",
      "Epoch [46/50], Step [64/65], Train Xent Loss: 0.2833\n",
      "learning rate:  8.1e-06\n",
      "Train Acc: 96.0000 %, Val Acc: 97.3203 %\n",
      "Epoch [47/50], Step [64/65], Train Xent Loss: 0.0981\n",
      "learning rate:  8.1e-06\n",
      "Train Acc: 97.0000 %, Val Acc: 97.3203 %\n",
      "Epoch [48/50], Step [64/65], Train Xent Loss: 0.1182\n",
      "learning rate:  8.1e-06\n",
      "Train Acc: 97.0000 %, Val Acc: 97.3203 %\n",
      "Epoch [49/50], Step [64/65], Train Xent Loss: 0.1105\n",
      "learning rate:  8.1e-06\n",
      "Train Acc: 96.0000 %, Val Acc: 97.3203 %\n",
      "Epoch [50/50], Step [64/65], Train Xent Loss: 0.0515\n",
      "learning rate:  8.1e-06\n",
      "Train Acc: 98.0000 %, Val Acc: 97.3203 %\n",
      "Time elapsed (hh:mm:ss.ms) 0:12:37.089258\n"
     ]
    }
   ],
   "source": [
    "mis_list = train(net,'no_hf',criterion,optimizer,scheduler,n_epochs,train_loader,val_loader)"
   ]
  },
  {
   "cell_type": "code",
   "execution_count": 34,
   "metadata": {},
   "outputs": [
    {
     "name": "stdout",
     "output_type": "stream",
     "text": [
      "Accuracy of the network on the test data: 96.2241 %\n"
     ]
    }
   ],
   "source": [
    "test_acc(net,'no_hf',criterion,optimizer,n_epochs,test_loader)"
   ]
  },
  {
   "cell_type": "code",
   "execution_count": 35,
   "metadata": {},
   "outputs": [
    {
     "name": "stdout",
     "output_type": "stream",
     "text": [
      "Accuracy of Wrong VC : 95.1724 %\n",
      "Accuracy of True VC : 97.4093 %\n",
      "Precision: 0.9741 Recall: 0.9471  F1 score: 0.9604\n"
     ]
    }
   ],
   "source": [
    "test_each_acc(net,'no_hf',criterion,optimizer,n_epochs,test_loader)"
   ]
  },
  {
   "cell_type": "markdown",
   "metadata": {},
   "source": [
    "## (3) Logistic Regression "
   ]
  },
  {
   "cell_type": "code",
   "execution_count": 36,
   "metadata": {},
   "outputs": [
    {
     "data": {
      "text/plain": [
       "LogisticRegression(\n",
       "  (linear): Linear(in_features=168, out_features=2, bias=True)\n",
       ")"
      ]
     },
     "execution_count": 36,
     "metadata": {},
     "output_type": "execute_result"
    }
   ],
   "source": [
    "### Control Case\n",
    "net = LogisticRegression().to(device)\n",
    "criterion = nn.CrossEntropyLoss() # only two classes, binary question\n",
    "optimizer = optim.SGD(net.parameters(), lr=learning_rate, momentum=0.9) # SGD is great, but could also try other optimiers\n",
    "scheduler = optim.lr_scheduler.StepLR(optimizer, step_size=10, gamma=0.3) # learning rate \n",
    "net.apply(weights_init)"
   ]
  },
  {
   "cell_type": "code",
   "execution_count": 37,
   "metadata": {},
   "outputs": [
    {
     "name": "stdout",
     "output_type": "stream",
     "text": [
      "Epoch [1/50], Step [64/65], Train Xent Loss: 0.4472\n",
      "learning rate:  0.001\n",
      "Train Acc: 87.0000 %, Val Acc: 85.1401 %\n",
      "Epoch [2/50], Step [64/65], Train Xent Loss: 0.3286\n",
      "learning rate:  0.001\n",
      "Train Acc: 88.0000 %, Val Acc: 87.4543 %\n",
      "Epoch [3/50], Step [64/65], Train Xent Loss: 0.3291\n",
      "learning rate:  0.001\n",
      "Train Acc: 86.0000 %, Val Acc: 87.3325 %\n",
      "Epoch [4/50], Step [64/65], Train Xent Loss: 0.2895\n",
      "learning rate:  0.001\n",
      "Train Acc: 91.0000 %, Val Acc: 88.4287 %\n",
      "Epoch [5/50], Step [64/65], Train Xent Loss: 0.3245\n",
      "learning rate:  0.001\n",
      "Train Acc: 89.0000 %, Val Acc: 88.6724 %\n",
      "Epoch [6/50], Step [64/65], Train Xent Loss: 0.2489\n",
      "learning rate:  0.001\n",
      "Train Acc: 93.0000 %, Val Acc: 89.2814 %\n",
      "Epoch [7/50], Step [64/65], Train Xent Loss: 0.2123\n",
      "learning rate:  0.001\n",
      "Train Acc: 93.0000 %, Val Acc: 89.5250 %\n",
      "Epoch [8/50], Step [64/65], Train Xent Loss: 0.2467\n",
      "learning rate:  0.001\n",
      "Train Acc: 90.0000 %, Val Acc: 90.2558 %\n",
      "Epoch [9/50], Step [64/65], Train Xent Loss: 0.3306\n",
      "learning rate:  0.001\n",
      "Train Acc: 87.0000 %, Val Acc: 90.7430 %\n",
      "Epoch [10/50], Step [64/65], Train Xent Loss: 0.2305\n",
      "learning rate:  0.001\n",
      "Train Acc: 93.0000 %, Val Acc: 91.1084 %\n",
      "Epoch [11/50], Step [64/65], Train Xent Loss: 0.1890\n",
      "learning rate:  0.0003\n",
      "Train Acc: 93.0000 %, Val Acc: 91.4738 %\n",
      "Epoch [12/50], Step [64/65], Train Xent Loss: 0.2668\n",
      "learning rate:  0.0003\n",
      "Train Acc: 92.0000 %, Val Acc: 91.4738 %\n",
      "Epoch [13/50], Step [64/65], Train Xent Loss: 0.2071\n",
      "learning rate:  0.0003\n",
      "Train Acc: 95.0000 %, Val Acc: 91.4738 %\n",
      "Epoch [14/50], Step [64/65], Train Xent Loss: 0.2251\n",
      "learning rate:  0.0003\n",
      "Train Acc: 90.0000 %, Val Acc: 91.7174 %\n",
      "Epoch [15/50], Step [64/65], Train Xent Loss: 0.2587\n",
      "learning rate:  0.0003\n",
      "Train Acc: 89.0000 %, Val Acc: 91.7174 %\n",
      "Epoch [16/50], Step [64/65], Train Xent Loss: 0.2472\n",
      "learning rate:  0.0003\n",
      "Train Acc: 92.0000 %, Val Acc: 91.7174 %\n",
      "Epoch [17/50], Step [64/65], Train Xent Loss: 0.2564\n",
      "learning rate:  0.0003\n",
      "Train Acc: 88.0000 %, Val Acc: 91.8392 %\n",
      "Epoch [18/50], Step [64/65], Train Xent Loss: 0.2291\n",
      "learning rate:  0.0003\n",
      "Train Acc: 94.0000 %, Val Acc: 91.9610 %\n",
      "Epoch [19/50], Step [64/65], Train Xent Loss: 0.2539\n",
      "learning rate:  0.0003\n",
      "Train Acc: 92.0000 %, Val Acc: 91.9610 %\n",
      "Epoch [20/50], Step [64/65], Train Xent Loss: 0.2902\n",
      "learning rate:  0.0003\n",
      "Train Acc: 87.0000 %, Val Acc: 92.0828 %\n",
      "Epoch [21/50], Step [64/65], Train Xent Loss: 0.2438\n",
      "learning rate:  8.999999999999999e-05\n",
      "Train Acc: 93.0000 %, Val Acc: 92.0828 %\n",
      "Epoch [22/50], Step [64/65], Train Xent Loss: 0.2242\n",
      "learning rate:  8.999999999999999e-05\n",
      "Train Acc: 93.0000 %, Val Acc: 92.0828 %\n",
      "Epoch [23/50], Step [64/65], Train Xent Loss: 0.3048\n",
      "learning rate:  8.999999999999999e-05\n",
      "Train Acc: 88.0000 %, Val Acc: 92.2046 %\n",
      "Epoch [24/50], Step [64/65], Train Xent Loss: 0.2285\n",
      "learning rate:  8.999999999999999e-05\n",
      "Train Acc: 94.0000 %, Val Acc: 92.2046 %\n",
      "Epoch [25/50], Step [64/65], Train Xent Loss: 0.2646\n",
      "learning rate:  8.999999999999999e-05\n",
      "Train Acc: 86.0000 %, Val Acc: 92.2046 %\n",
      "Epoch [26/50], Step [64/65], Train Xent Loss: 0.2201\n",
      "learning rate:  8.999999999999999e-05\n",
      "Train Acc: 94.0000 %, Val Acc: 92.2046 %\n",
      "Epoch [27/50], Step [64/65], Train Xent Loss: 0.1565\n",
      "learning rate:  8.999999999999999e-05\n",
      "Train Acc: 96.0000 %, Val Acc: 92.2046 %\n",
      "Epoch [28/50], Step [64/65], Train Xent Loss: 0.1993\n",
      "learning rate:  8.999999999999999e-05\n",
      "Train Acc: 95.0000 %, Val Acc: 92.2046 %\n",
      "Epoch [29/50], Step [64/65], Train Xent Loss: 0.2842\n",
      "learning rate:  8.999999999999999e-05\n",
      "Train Acc: 87.0000 %, Val Acc: 92.2046 %\n",
      "Epoch [30/50], Step [64/65], Train Xent Loss: 0.2248\n",
      "learning rate:  8.999999999999999e-05\n",
      "Train Acc: 93.0000 %, Val Acc: 92.2046 %\n",
      "Epoch [31/50], Step [64/65], Train Xent Loss: 0.2095\n",
      "learning rate:  2.6999999999999996e-05\n",
      "Train Acc: 94.0000 %, Val Acc: 92.2046 %\n",
      "Epoch [32/50], Step [64/65], Train Xent Loss: 0.2383\n",
      "learning rate:  2.6999999999999996e-05\n",
      "Train Acc: 89.0000 %, Val Acc: 92.2046 %\n",
      "Epoch [33/50], Step [64/65], Train Xent Loss: 0.2042\n",
      "learning rate:  2.6999999999999996e-05\n",
      "Train Acc: 92.0000 %, Val Acc: 92.2046 %\n",
      "Epoch [34/50], Step [64/65], Train Xent Loss: 0.2183\n",
      "learning rate:  2.6999999999999996e-05\n",
      "Train Acc: 92.0000 %, Val Acc: 92.2046 %\n",
      "Epoch [35/50], Step [64/65], Train Xent Loss: 0.1810\n",
      "learning rate:  2.6999999999999996e-05\n",
      "Train Acc: 93.0000 %, Val Acc: 92.2046 %\n",
      "Epoch [36/50], Step [64/65], Train Xent Loss: 0.2728\n",
      "learning rate:  2.6999999999999996e-05\n",
      "Train Acc: 91.0000 %, Val Acc: 92.2046 %\n",
      "Epoch [37/50], Step [64/65], Train Xent Loss: 0.1815\n",
      "learning rate:  2.6999999999999996e-05\n",
      "Train Acc: 97.0000 %, Val Acc: 92.2046 %\n",
      "Epoch [38/50], Step [64/65], Train Xent Loss: 0.3132\n",
      "learning rate:  2.6999999999999996e-05\n",
      "Train Acc: 89.0000 %, Val Acc: 92.2046 %\n",
      "Epoch [39/50], Step [64/65], Train Xent Loss: 0.1844\n",
      "learning rate:  2.6999999999999996e-05\n",
      "Train Acc: 98.0000 %, Val Acc: 92.2046 %\n",
      "Epoch [40/50], Step [64/65], Train Xent Loss: 0.2433\n",
      "learning rate:  2.6999999999999996e-05\n",
      "Train Acc: 88.0000 %, Val Acc: 92.2046 %\n",
      "Epoch [41/50], Step [64/65], Train Xent Loss: 0.2072\n",
      "learning rate:  8.1e-06\n",
      "Train Acc: 95.0000 %, Val Acc: 92.2046 %\n",
      "Epoch [42/50], Step [64/65], Train Xent Loss: 0.1432\n",
      "learning rate:  8.1e-06\n",
      "Train Acc: 97.0000 %, Val Acc: 92.2046 %\n",
      "Epoch [43/50], Step [64/65], Train Xent Loss: 0.2762\n",
      "learning rate:  8.1e-06\n",
      "Train Acc: 94.0000 %, Val Acc: 92.2046 %\n",
      "Epoch [44/50], Step [64/65], Train Xent Loss: 0.1968\n",
      "learning rate:  8.1e-06\n",
      "Train Acc: 93.0000 %, Val Acc: 92.2046 %\n",
      "Epoch [45/50], Step [64/65], Train Xent Loss: 0.2330\n",
      "learning rate:  8.1e-06\n",
      "Train Acc: 92.0000 %, Val Acc: 92.2046 %\n",
      "Epoch [46/50], Step [64/65], Train Xent Loss: 0.2973\n",
      "learning rate:  8.1e-06\n",
      "Train Acc: 92.0000 %, Val Acc: 92.2046 %\n",
      "Epoch [47/50], Step [64/65], Train Xent Loss: 0.2910\n",
      "learning rate:  8.1e-06\n",
      "Train Acc: 92.0000 %, Val Acc: 92.2046 %\n",
      "Epoch [48/50], Step [64/65], Train Xent Loss: 0.2172\n",
      "learning rate:  8.1e-06\n",
      "Train Acc: 94.0000 %, Val Acc: 92.2046 %\n",
      "Epoch [49/50], Step [64/65], Train Xent Loss: 0.2043\n",
      "learning rate:  8.1e-06\n",
      "Train Acc: 95.0000 %, Val Acc: 92.2046 %\n",
      "Epoch [50/50], Step [64/65], Train Xent Loss: 0.2366\n",
      "learning rate:  8.1e-06\n",
      "Train Acc: 92.0000 %, Val Acc: 92.2046 %\n",
      "Time elapsed (hh:mm:ss.ms) 0:06:20.690001\n"
     ]
    }
   ],
   "source": [
    "mis_list = train(net,'hf',criterion,optimizer,scheduler,n_epochs,train_loader,val_loader)"
   ]
  },
  {
   "cell_type": "code",
   "execution_count": 38,
   "metadata": {},
   "outputs": [
    {
     "name": "stdout",
     "output_type": "stream",
     "text": [
      "Accuracy of the network on the test data: 91.4738 %\n"
     ]
    }
   ],
   "source": [
    "test_acc(net,'hf',criterion,optimizer,n_epochs,test_loader)"
   ]
  },
  {
   "cell_type": "code",
   "execution_count": 39,
   "metadata": {},
   "outputs": [
    {
     "name": "stdout",
     "output_type": "stream",
     "text": [
      "Accuracy of Wrong VC : 86.4368 %\n",
      "Accuracy of True VC : 97.1503 %\n",
      "Precision: 0.9715 Recall: 0.8641  F1 score: 0.9146\n"
     ]
    }
   ],
   "source": [
    "test_each_acc(net,'hf',criterion,optimizer,n_epochs,test_loader)"
   ]
  },
  {
   "cell_type": "markdown",
   "metadata": {},
   "source": [
    "### Observe wrong variants in IGV"
   ]
  },
  {
   "cell_type": "code",
   "execution_count": 312,
   "metadata": {},
   "outputs": [],
   "source": [
    "#mis_list"
   ]
  },
  {
   "cell_type": "code",
   "execution_count": 33,
   "metadata": {},
   "outputs": [],
   "source": [
    "mis = [item for sublist in mis_list for item in sublist]"
   ]
  },
  {
   "cell_type": "code",
   "execution_count": 34,
   "metadata": {},
   "outputs": [
    {
     "data": {
      "text/plain": [
       "[tensor(29830908),\n",
       " tensor(59862248),\n",
       " tensor(25943376),\n",
       " tensor(52477592),\n",
       " tensor(52458077),\n",
       " tensor(44274319),\n",
       " tensor(62767035),\n",
       " tensor(31985041),\n",
       " tensor(61315242),\n",
       " tensor(62197905),\n",
       " tensor(4570550),\n",
       " tensor(46527454),\n",
       " tensor(1239615),\n",
       " tensor(46457390),\n",
       " tensor(59768013),\n",
       " tensor(36598227),\n",
       " tensor(54423713)]"
      ]
     },
     "execution_count": 34,
     "metadata": {},
     "output_type": "execute_result"
    }
   ],
   "source": [
    "mis"
   ]
  },
  {
   "cell_type": "code",
   "execution_count": null,
   "metadata": {},
   "outputs": [],
   "source": [
    "df['variant_POS'] == 4570550"
   ]
  },
  {
   "cell_type": "code",
   "execution_count": 225,
   "metadata": {},
   "outputs": [],
   "source": [
    "mode = 'hf'\n",
    "with torch.no_grad():\n",
    "    false_pos_list = []\n",
    "    for val_data in val_loader:\n",
    "        val_inputs, val_labels = val_data['feature'].to(device), val_data['label'].squeeze(1).to(device=device, dtype=torch.int64) \n",
    "        val_hf = val_data['hf'].to(device)\n",
    "        val_pos = val_data['pos']\n",
    "                        \n",
    "        if mode == 'no_hf':\n",
    "            val_outputs = net(val_inputs)\n",
    "        else:\n",
    "            val_outputs = net(val_inputs, val_hf)\n",
    "                        \n",
    "        _, val_predicted = torch.max(val_outputs.data, 1)\n",
    "        false_pos_list.append(val_pos[val_predicted != val_labels])"
   ]
  },
  {
   "cell_type": "code",
   "execution_count": 228,
   "metadata": {},
   "outputs": [],
   "source": [
    "with open('data/wrong_pred_pos_all_ds_hf.txt', 'w') as filehandle:\n",
    "    for listitem in false_pos_list:\n",
    "        filehandle.write('%s\\n' % listitem)"
   ]
  },
  {
   "cell_type": "code",
   "execution_count": 35,
   "metadata": {},
   "outputs": [
    {
     "data": {
      "text/plain": [
       "<matplotlib.legend.Legend at 0x12fc842b0>"
      ]
     },
     "execution_count": 35,
     "metadata": {},
     "output_type": "execute_result"
    },
    {
     "data": {
      "image/png": "[encoded data removed]",
      "text/plain": [
       "<Figure size 432x288 with 1 Axes>"
      ]
     },
     "metadata": {
      "needs_background": "light"
     },
     "output_type": "display_data"
    }
   ],
   "source": [
    "plt.hist(mis,alpha=0.5,label = 'mis-classified')\n",
    "#plt.hist(true_pos_dist,alpha=0.5, label = 'TP')\n",
    "plt.xlabel(\"Chrom position\",fontSize=15)\n",
    "plt.ylabel(\"Count\",fontSize=15)\n",
    "plt.title(\"Distribution of Misclassified variant\",fontSize=15)\n",
    "plt.legend()"
   ]
  },
  {
   "cell_type": "markdown",
   "metadata": {},
   "source": [
    "#### Plot distributions of variables"
   ]
  },
  {
   "cell_type": "code",
   "execution_count": 128,
   "metadata": {},
   "outputs": [],
   "source": [
    "df = pd.read_csv(\"new_data_dec/191218_cfr_add_dir_qual_val.csv\", sep='\\t', index_col=[0],\n",
    "                       dtype={'POS': int, 'BaseQRankSum':float,'ClippingRankSum':float,\n",
    "                              'MQRankSum':float,'label': int}, \n",
    "                       converters={'alt_ratio': converter,'norm_read_depth':converter,\n",
    "                                  'dir_ratio': converter})"
   ]
  },
  {
   "cell_type": "code",
   "execution_count": 129,
   "metadata": {},
   "outputs": [
    {
     "data": {
      "text/plain": [
       "(821, 10)"
      ]
     },
     "execution_count": 129,
     "metadata": {},
     "output_type": "execute_result"
    }
   ],
   "source": [
    "df.shape"
   ]
  },
  {
   "cell_type": "code",
   "execution_count": 328,
   "metadata": {},
   "outputs": [
    {
     "data": {
      "image/png": "[encoded data removed]",
      "text/plain": [
       "<Figure size 648x216 with 3 Axes>"
      ]
     },
     "metadata": {
      "needs_background": "light"
     },
     "output_type": "display_data"
    }
   ],
   "source": [
    "fig,axs = plt.subplots(1,3,figsize=(9,3))\n",
    "axs[0].hist(df['BaseQRankSum'],alpha=0.5)\n",
    "axs[1].hist(df['ClippingRankSum'],alpha=0.5)\n",
    "axs[2].hist(df['MQRankSum'],alpha=0.5)\n",
    "plt.tight_layout()"
   ]
  },
  {
   "cell_type": "code",
   "execution_count": null,
   "metadata": {},
   "outputs": [],
   "source": []
  }
 ],
 "metadata": {
  "kernelspec": {
   "display_name": "Python 3",
   "language": "python",
   "name": "python3"
  },
  "language_info": {
   "codemirror_mode": {
    "name": "ipython",
    "version": 3
   },
   "file_extension": ".py",
   "mimetype": "text/x-python",
   "name": "python",
   "nbconvert_exporter": "python",
   "pygments_lexer": "ipython3",
   "version": "3.8.3"
  }
 },
 "nbformat": 4,
 "nbformat_minor": 2
}
